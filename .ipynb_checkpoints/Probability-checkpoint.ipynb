{
 "cells": [
  {
   "cell_type": "markdown",
   "metadata": {},
   "source": [
    "# Learning Objectives\n",
    "\n",
    "By the end of this class, you will be able to...\n",
    "\n",
    "1. Write down functions to compute probability and conditional probability \n",
    "1. Use Bayes formula to compute conditional probability "
   ]
  },
  {
   "cell_type": "markdown",
   "metadata": {},
   "source": [
    "## A Brief Introduction to Probabilistic Thinking"
   ]
  },
  {
   "cell_type": "markdown",
   "metadata": {},
   "source": [
    "Probability is all about the **chances of an event occurring** or how likely an event is to occur, in a set of events.\n",
    "\n",
    "If you really think about it, you've been thinking about probability all of your life! \n",
    "\n",
    "Ever wondered about...\n",
    "\n",
    "> -  The chances of it raining today\n",
    "> -  The chances of winning the lottery\n",
    "> -  The chances of getting hired at Google\n",
    "\n",
    "That's probabilistic thinking! \n",
    "\n",
    "We can draw immediate connections from the world of probabilistic thinking to the world of statistical inference and analysis."
   ]
  },
  {
   "cell_type": "markdown",
   "metadata": {},
   "source": [
    "In mathematics, probability is modeled by the following expression:\n",
    "\n",
    "$P(A)= \\frac{Count of A }{sample Space}$\n",
    "\n",
    "Don't fear the sight of equations and non-numerical variables – this is much simpler than it looks! \n",
    "\n",
    "First let's break down the equation:\n",
    "\n",
    "- `P(A)` = The probability of Event A ocurring in a set of observed events in a sample space (S)\n",
    "- `Countof A` = the number of occurrences of Event A across a sample space (S)\n",
    "- `sampleSpace` = the total number of observed events (Event A and any others that occur)\n",
    "\n",
    "All this translates to is that **the probability of Event A occurring** in a set of observed events in _Sample Space S_ is equal to **the number of occurrences of Event A** across _Sample Space S_ divided by **the total number of observed events**. \n",
    "\n",
    "Note that since the number of occurrences of a single event can _never be bigger_ than the total events that can occur in the sample space, the probability of an event will always be within the range: [0, 1].\n",
    "\n",
    "### Syntax Note\n",
    "`[ ]` indicate _inclusive_. So when you see [0, 1], that means the range _includes_ the numbers 0 and 1"
   ]
  },
  {
   "cell_type": "markdown",
   "metadata": {},
   "source": [
    "## Example:"
   ]
  },
  {
   "cell_type": "markdown",
   "metadata": {},
   "source": [
    "You'll often see these events and sample spaces represented in data sets in a number of formats. \n",
    "\n",
    "Here are some examples:\n",
    "\n",
    "| Won Lottery |\n",
    "| ----|\n",
    "| yes |\n",
    "| no  |\n",
    "| no  |\n",
    "| no  |\n",
    "\n",
    "<br>\n",
    "\n",
    "| Hired by Google |\n",
    "|------|\n",
    "| false|\n",
    "| true |\n",
    "| true |\n",
    "| false|\n",
    "\n"
   ]
  },
  {
   "cell_type": "markdown",
   "metadata": {},
   "source": [
    "## Activity: Flip a coin one hundred times. What is the probability of getting Heads or Tails (H/T)?\n",
    "\n",
    "How do we compute P(H) and P(T)?"
   ]
  },
  {
   "cell_type": "markdown",
   "metadata": {},
   "source": [
    "## Activity:\n",
    "\n",
    "What is the probability of drawing an Ace from deck of cards?\n",
    "\n",
    "Answer = ?"
   ]
  },
  {
   "cell_type": "code",
   "execution_count": 1,
   "metadata": {},
   "outputs": [
    {
     "name": "stdout",
     "output_type": "stream",
     "text": [
      "0.08\n"
     ]
    }
   ],
   "source": [
    "# Sample Space\n",
    "cards = 52\n",
    "\n",
    "# Outcomes\n",
    "aces = 4\n",
    "\n",
    "# Divide possible outcomes by the sample set\n",
    "ace_probability = aces / cards\n",
    "\n",
    "# Print probability rounded to two decimal places\n",
    "print(round(ace_probability, 2))"
   ]
  },
  {
   "cell_type": "markdown",
   "metadata": {},
   "source": [
    "## Activity: Create function that returns probability based on given `event_outcomes` and `sample_space`"
   ]
  },
  {
   "cell_type": "code",
   "execution_count": 5,
   "metadata": {},
   "outputs": [
    {
     "name": "stdout",
     "output_type": "stream",
     "text": [
      "25.0\n",
      "23.1\n"
     ]
    }
   ],
   "source": [
    "# Create function that returns probability percent rounded to one decimal place\n",
    "def event_probability(event_outcomes, sample_space):\n",
    "    probability = (event_outcomes / sample_space) * 100\n",
    "    return round(probability, 1)\n",
    "\n",
    "# Sample Space\n",
    "cards = 52\n",
    "\n",
    "# Determine the probability of drawing a heart\n",
    "hearts = 13\n",
    "heart_probability = event_probability(hearts, cards)\n",
    "print(heart_probability)\n",
    "\n",
    "# Determine the probability of drawing a face card\n",
    "face_cards = 12\n",
    "face_card_probability = event_probability(face_cards, cards)\n",
    "print(face_card_probability)"
   ]
  },
  {
   "cell_type": "markdown",
   "metadata": {},
   "source": [
    "## Quiz: What is the probability of drawing a Flush in the given scenario:\n",
    "\n",
    "***Important Information***\n",
    "\n",
    "- A Flush is a strong poker hand where **all five cards are the same suit.**\n",
    "- We know there are 13 cards for each suit\n",
    "- We know that there are 52 cards total, and 6 currently drawn/in play\n",
    "- We only know about the cards in \"Your Hand\" and the \"Community Cards\". We do not know anything else about other cards\n",
    "\n",
    "\n",
    "\n",
    "<img src=\"flush_draw.png\" width=\"500\" height=\"500\">"
   ]
  },
  {
   "cell_type": "markdown",
   "metadata": {},
   "source": [
    "## Independent Events:"
   ]
  },
  {
   "cell_type": "markdown",
   "metadata": {},
   "source": [
    "### Activity: Flip a fair coin three times. What is the probability of getting HTT in that exact sequence?"
   ]
  },
  {
   "cell_type": "markdown",
   "metadata": {},
   "source": [
    "Because it is a fair coin, P(H) = 1/2 and P(T) = 1/2\n",
    "\n",
    "`P(first_trial=H, second_trial=T, third_trial=T) = P(first_trial=H) * P(second_trial=T) * P(third_trial=T) = 1/8`\n",
    "\n",
    "**Independent events have no effect on each other** - You getting Heads on the first flip does not increase or decrease your chances of getting tails on the second flip"
   ]
  },
  {
   "cell_type": "markdown",
   "metadata": {},
   "source": [
    "## Dependent Events"
   ]
  },
  {
   "cell_type": "markdown",
   "metadata": {},
   "source": [
    "**Dependent events affect each other** - what happens to thee first event directly increases or decreases the probability of the second event, and so on\n",
    "\n",
    "Consider we have a bag of marbles: two are **blue**, and three are **red**."
   ]
  },
  {
   "cell_type": "markdown",
   "metadata": {},
   "source": [
    "We can ask a simple probabilistic question: \n",
    "\n",
    "### _What is the probability of drawing a red marble?_ "
   ]
  },
  {
   "cell_type": "markdown",
   "metadata": {},
   "source": [
    "We can model the probability of each outcome as the following:"
   ]
  },
  {
   "cell_type": "markdown",
   "metadata": {},
   "source": [
    "<img src=\"https://www.mathsisfun.com/data/images/probability-marbles-tree1.svg\" />"
   ]
  },
  {
   "cell_type": "markdown",
   "metadata": {},
   "source": [
    "### _What is the probability of drawing two red marbles?_\n",
    "\n",
    "<img src=\"https://www.mathsisfun.com/data/images/probability-marbles-tree2.svg\" />\n",
    "\n",
    "We see here that the first event (drawing either a blue or red marble first) directly affects the probability of drawing a second red marble. This shows that the events here (drawing marbles) are dependent to each other!\n",
    "\n",
    "To answer this question we should learn about conditional probability."
   ]
  },
  {
   "cell_type": "markdown",
   "metadata": {},
   "source": [
    "### In general cases, the conditional probability of an event is described by the following equation.\n",
    "\n",
    "<br><img src=\"https://www.mathsisfun.com/data/images/probability-independent-formula2.gif\" /><br>\n",
    "\n",
    "This can be described as **the probability of event B given event A** is equal to _the probability of events A and B occurring_ divided by _the probability of event A_. \n",
    "\n",
    "#### Important Syntax Note\n",
    "\n",
    "Often `P(A and B)` is written using the following notation: $ P( A \\cap B) $\n",
    "\n",
    "Now, let's look at an example!"
   ]
  },
  {
   "cell_type": "markdown",
   "metadata": {},
   "source": [
    "### Activity: I Scream for Ice Cream_"
   ]
  },
  {
   "cell_type": "markdown",
   "metadata": {},
   "source": [
    "Another way to refactor the question to fit our conditional probability model:\n",
    "\n",
    "- Given that some friends like _Chocolate_, what is the probability that they like _Strawberry_ as well?\n",
    "\n",
    "We can now attribute our events to the question parameters!\n",
    "\n",
    "- **Event A: Chocolate**\n",
    "- **Event B: Strawberry**\n",
    "\n",
    "We're already given the following from some research that our ice cream assistant provided:\n",
    "\n",
    "- $ P( Chocolate ) = 0.7 $\n",
    "- $ P( Chocolate \\cap Strawberry) = 0.35 $\n",
    "\n",
    "And asked the following:\n",
    "\n",
    "- $ P( Strawberry \\mid Chocolate ) = ? $"
   ]
  },
  {
   "cell_type": "markdown",
   "metadata": {},
   "source": [
    "Therefore, our conditional probability model now looks a little like this:\n",
    "\n",
    "$ P( Strawberry \\mid Chocolate ) = \\frac{P( Chocolate \\cap Strawberry )}{P( Chocolate )} $\n",
    "\n",
    "Plugging in our parameters gives us the following answer:\n",
    "\n",
    "$ P( Strawberry \\mid Chocolate ) = \\frac{0.35}{0.7} = 0.5 $\n",
    "\n",
    "...which confirms to us that 50% of your friends who like chocolate also like strawberry. "
   ]
  },
  {
   "cell_type": "markdown",
   "metadata": {},
   "source": [
    "## Lets answer the two red marbles question:\n",
    "\n",
    "$ P(first=red \\cap second =red) = P(second=red \\mid first = red) * P(first= red) = 2/ 4 * 3 /5 = 6/20 = 3/10 $"
   ]
  },
  {
   "cell_type": "markdown",
   "metadata": {},
   "source": [
    "## Activity: The tennis dataset is given, what is the probability that the wind is weak and the tennis player does not play?\n",
    "\n",
    "<img src=\"dst_1.png\" width=\"400\" height=\"400\">\n",
    "\n",
    "**Verify your result by applying Bayes rule**"
   ]
  },
  {
   "cell_type": "markdown",
   "metadata": {},
   "source": [
    "Answer:\n",
    "  \n",
    "$ P(wind = weak \\cap play = no) = 2/14 $\n",
    "    \n",
    "Bayes rule:\n",
    "\n",
    "$ P(wind = weak \\cap play = no) = P(play = no \\mid wind = weak)P(wind = weak) = 2/8 * 8/14 = 16/112 = 1/7$"
   ]
  },
  {
   "cell_type": "markdown",
   "metadata": {},
   "source": [
    "## Mathematical Notation for Independent events:\n",
    "\n",
    "Events A and B (which have nonzero probability) are independent if and only if one of the following equivalent statements holds:\n",
    "\n",
    "$ P(A \\cap B)=P(A)P(B) $\n",
    "\n",
    "$ P(A \\mid B)=P(A) $\n",
    "\n",
    "$ P(B\\mid A)=P(B) $"
   ]
  },
  {
   "cell_type": "markdown",
   "metadata": {},
   "source": [
    "## Resources:\n",
    "\n",
    "- https://www.datacamp.com/community/tutorials/statistics-python-tutorial-probability-1"
   ]
  },
  {
   "cell_type": "code",
   "execution_count": null,
   "metadata": {},
   "outputs": [],
   "source": []
  }
 ],
 "metadata": {
  "kernelspec": {
   "display_name": "Python 3",
   "language": "python",
   "name": "python3"
  },
  "language_info": {
   "codemirror_mode": {
    "name": "ipython",
    "version": 3
   },
   "file_extension": ".py",
   "mimetype": "text/x-python",
   "name": "python",
   "nbconvert_exporter": "python",
   "pygments_lexer": "ipython3",
   "version": "3.7.1"
  }
 },
 "nbformat": 4,
 "nbformat_minor": 2
}
