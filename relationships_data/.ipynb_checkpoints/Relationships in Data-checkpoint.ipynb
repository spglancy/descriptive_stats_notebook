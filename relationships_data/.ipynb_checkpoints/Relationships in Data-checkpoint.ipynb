{
 "cells": [
  {
   "cell_type": "markdown",
   "metadata": {},
   "source": [
    "# Relationships in Data\n",
    "\n",
    "Exploring the mathematical relationships in data can help us uncover invaluable insights about aspects of the world the data is describing. In this lesson we will explore some of the fundamental data relationships that can be calculated. These relationships include variance, percentile, correlation, and covariance. We will explore what each of these mean, how they are calculated, and apply them to a real dataset."
   ]
  },
  {
   "cell_type": "markdown",
   "metadata": {},
   "source": [
    "## Variables"
   ]
  },
  {
   "cell_type": "markdown",
   "metadata": {},
   "source": [
    "Before diving into the details of data relationships we first need to talk about variables. A variable in data is any attribute quantity, or numerical value that can be measured. Some examples of data variables that you may be familiar with are things such as age, cost, temperature etc. Datasets consist of a number of observed values of several different variables."
   ]
  },
  {
   "cell_type": "markdown",
   "metadata": {},
   "source": [
    "There are two different types of variables that can be present in a dataset, numerical and categorical. In this course we will focus on numerical variables.\n",
    "\n",
    "### Numerical Variables: how many? how much?\n",
    "\n",
    "Numerical variables correspond to things that can be represented by a number. Numeric variables can either be discrete or continuous. \n",
    "\n",
    "Discrete variables have whole number values and represent things that cannot be fractional such as the number of pets in a household.\n",
    "\n",
    "Continuous variables are represented by real numbers and can be used for things such as height or weight."
   ]
  },
  {
   "cell_type": "markdown",
   "metadata": {},
   "source": [
    "## Variance"
   ]
  },
  {
   "cell_type": "markdown",
   "metadata": {},
   "source": [
    "You may recall variance from the descriptive statistic lesson. Variance is a measure of how spread out the data is or to put it another way it measures how far a set of numbers is spread out from their average value. \n",
    "\n",
    "Reference-style: \n",
    "![Variance](variance.png)\n"
   ]
  },
  {
   "cell_type": "markdown",
   "metadata": {},
   "source": [
    "## Percentile"
   ]
  },
  {
   "cell_type": "markdown",
   "metadata": {},
   "source": [
    "## Correlation\n",
    "\n",
    "Correlation is broadly defined as the statistical relationship between two variables. There are a number of reasons why different variables could be correlated. It is important to keep in mind that correlation does not equal causation. Two variables being correlated does not necessarily mean that one is caused by the other, it may be the case that these varaibles could both depend on a third unknown variable. All correlation tells us is that there is some sort of relationship present which can help us make predictions about future behavior. \n",
    "\n",
    "We can describe some correlations in terms of how variables change. \n",
    "\n",
    "If a positve correlation is present, both variables will change in the same direction. If the value of one variable increases then the value of the other variable will also increase. They will also decrese together as well. \n",
    "\n",
    "If a neutral correlation is present there is no measureable relationship when the variables change.\n",
    "\n",
    "If a negative correlation is present, then when one variables goes up the other will go down and vice versa.\n",
    "\n",
    "add images\n",
    "\n",
    "Correlation refers to the idea of relationships between variables but there are several different ways to actually calculate correlation using a correlation coefficient, which is a way to represent the relationship with a value.\n",
    "\n"
   ]
  },
  {
   "cell_type": "markdown",
   "metadata": {},
   "source": [
    "## Covariance"
   ]
  },
  {
   "cell_type": "code",
   "execution_count": null,
   "metadata": {},
   "outputs": [],
   "source": []
  }
 ],
 "metadata": {
  "kernelspec": {
   "display_name": "Python 3",
   "language": "python",
   "name": "python3"
  },
  "language_info": {
   "codemirror_mode": {
    "name": "ipython",
    "version": 3
   },
   "file_extension": ".py",
   "mimetype": "text/x-python",
   "name": "python",
   "nbconvert_exporter": "python",
   "pygments_lexer": "ipython3",
   "version": "3.6.4"
  }
 },
 "nbformat": 4,
 "nbformat_minor": 2
}
