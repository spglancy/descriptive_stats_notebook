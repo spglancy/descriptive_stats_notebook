{
 "cells": [
  {
   "cell_type": "code",
   "execution_count": 11,
   "metadata": {},
   "outputs": [],
   "source": [
    "import numpy as np"
   ]
  },
  {
   "cell_type": "markdown",
   "metadata": {},
   "source": [
    "# Descriptive Statistics\n",
    "\n",
    "- We'll be focusing primarily on descriptive statistics in order to describe patterns, trends, distributions, and behaviors across our data."
   ]
  },
  {
   "cell_type": "markdown",
   "metadata": {},
   "source": [
    "# Measures of Central Tendency"
   ]
  },
  {
   "cell_type": "markdown",
   "metadata": {},
   "source": [
    "## Mean, Median and Mode"
   ]
  },
  {
   "cell_type": "markdown",
   "metadata": {},
   "source": [
    "The \"Mean\" is computed by adding all of the numbers in the data\n",
    "together and dividing by the number elements contained in the data set.\n",
    "\n",
    "Example :\n",
    "\n",
    "Data Set = 2, 5, 9, 3, 5, 4, 7\n",
    "\n",
    "Number of Elements in Data Set = 7\n",
    "\n",
    "Mean = ( 2 + 5 + 9 + 7 + 5 + 4 + 3 ) / 7 = 5\n",
    "\n",
    "Mathematical Notation for mean:\n",
    "\n",
    "<img src=\"mean_formula.png\" width=\"100\" height=\"100\">\n",
    "\n",
    "n: is number of element\n",
    "\n",
    "x_i: is the ith element of Dataset"
   ]
  },
  {
   "cell_type": "markdown",
   "metadata": {},
   "source": [
    "### Median :\n",
    "    \n",
    "The \"Median\" of a data set is dependant on whether the number of\n",
    "elements in the data set is odd or even. First reorder the data set\n",
    "from the smallest to the largest then if the number of elements\n",
    "are odd, then the Median is the element in the middle of the data set.\n",
    "If the number of elements are even, then the Median is the average\n",
    "of the two middle terms.\n",
    "\n",
    "#### Examples : Odd Number of Elements\n",
    "    \n",
    "Data Set = 2, 5, 9, 3, 5, 4, 7\n",
    "\n",
    "Reordered = 2, 3, 4, 5, 5, 7, 9\n",
    "\n",
    "<img src=\"median_1.png\" width=\"100\" height=\"100\">\n",
    "\n",
    "Median = 5\n",
    "\n",
    "#### Examples : Even Number of Elements\n",
    "\n",
    "Data Set = 2, 5, 9, 3, 5, 4\n",
    "\n",
    "Reordered = 2, 3, 4, 5, 5, 9\n",
    "\n",
    "<img src=\"median_2.png\" width=\"100\" height=\"100\">\n",
    "\n",
    "Median = ( 4 + 5 ) / 2 = 4.5\n",
    "\n",
    "Mathematical Notation for mean:\n",
    "\n",
    "<img src=\"median_formula.png\" width=\"300\" height=\"300\">"
   ]
  },
  {
   "cell_type": "markdown",
   "metadata": {},
   "source": [
    "### Mode :\n",
    "\n",
    "The \"Mode\" for a data set is the element that occurs the most often.\n",
    "It is not uncommon for a data set to have more than one mode.\n",
    "This happens when two or more elements accur with equal frequency\n",
    "in the data set."
   ]
  },
  {
   "cell_type": "markdown",
   "metadata": {},
   "source": [
    "Example: \n",
    "\n",
    "Data Set = 2, 5, 9, 3, 5, 4, 7\n",
    "\n",
    "Mode = 5"
   ]
  },
  {
   "cell_type": "markdown",
   "metadata": {},
   "source": [
    "### Activity: _Write a function to compute the mean from an arbitrary dataset._"
   ]
  },
  {
   "cell_type": "code",
   "execution_count": 12,
   "metadata": {},
   "outputs": [
    {
     "data": {
      "text/plain": [
       "4.391304347826087"
      ]
     },
     "execution_count": 12,
     "metadata": {},
     "output_type": "execute_result"
    }
   ],
   "source": [
    "data = np.array([1, 3, 5, 2, 3, 7, 8, 4, 10, 0, 6, 7, 3, 0, 3, 0, 5, 7, 10, 1, 4, 9, 3])\n",
    "\n",
    "# TODO: Complete this function by having the function return the average value of our dataset.\n",
    "def mean(arr):\n",
    "    arr = list(arr)\n",
    "    return sum(arr)/len(arr)\n",
    "\n",
    "mean(data)"
   ]
  },
  {
   "cell_type": "markdown",
   "metadata": {},
   "source": [
    "### Activity: _Write a function to compute the median from an arbitrary dataset._"
   ]
  },
  {
   "cell_type": "code",
   "execution_count": 13,
   "metadata": {},
   "outputs": [
    {
     "data": {
      "text/plain": [
       "4"
      ]
     },
     "execution_count": 13,
     "metadata": {},
     "output_type": "execute_result"
    }
   ],
   "source": [
    "data = np.array([1, 3, 5, 2, 3, 7, 8, 4, 10, 0, 6, 7, 3, 0, 3, 0, 5, 7, 10, 1, 4, 9, 3])\n",
    "\n",
    "# TODO: Complete this function by having the function return the exact true median value of our dataset.\n",
    "# HINT: Consider using DataFrame slicing to help with identifying the correct median value(s).\n",
    "def median(arr):\n",
    "    arr = list(arr)\n",
    "    if len(arr) == 0:\n",
    "        return 'Nan'\n",
    "    arr.sort()\n",
    "    if len(arr) % 2 == 0:\n",
    "        return (arr[len(arr)//2] + arr[(len(arr)//2)-1])/2\n",
    "    else:\n",
    "        return arr[len(arr)//2]\n",
    "    \n",
    "median(data)"
   ]
  },
  {
   "cell_type": "markdown",
   "metadata": {},
   "source": [
    "### Activity: _Write a function to compute the mode from an arbitrary dataset._"
   ]
  },
  {
   "cell_type": "code",
   "execution_count": 14,
   "metadata": {},
   "outputs": [
    {
     "data": {
      "text/plain": [
       "[3]"
      ]
     },
     "execution_count": 14,
     "metadata": {},
     "output_type": "execute_result"
    }
   ],
   "source": [
    "# NOTE: Tricker than it looks!\n",
    "data = np.array([1, 3, 5, 2, 3, 7, 8, 4, 10, 0, 6, 7, 3, 0, 3, 0, 5, 7, 10, 1, 4, 9, 3])\n",
    "\n",
    "# TODO: Complete this function by having the function return the relative mode across our dataset.\n",
    "# HINT: Remember histograms and tokenization from CS 1.2? How many they help you here? \n",
    "def mode(arr):\n",
    "    arr = list(arr)\n",
    "    check = {}\n",
    "    mode = []\n",
    "    max_val = 0\n",
    "    for item in arr:\n",
    "        if item in check:\n",
    "            check[item] += 1\n",
    "        else:\n",
    "            check[item] = 1\n",
    "    for key, val in check.items():\n",
    "        if val == max_val:\n",
    "            mode.append(key)\n",
    "        if val > max_val:\n",
    "            mode = [key]\n",
    "            max_val = val\n",
    "    return mode\n",
    "\n",
    "mode(data)"
   ]
  },
  {
   "cell_type": "markdown",
   "metadata": {},
   "source": [
    "## Measures of Spread\n",
    "\n",
    "- Range\n",
    "\n",
    "- Variance"
   ]
  },
  {
   "cell_type": "markdown",
   "metadata": {},
   "source": [
    "### Range :\n",
    "\n",
    "The \"Range\" for a data set is the difference between the largest value and\n",
    "smallest value contained in the data set. First reorder the data set from\n",
    "smallest to largest then subtract the first element from the last element.\n",
    "\n",
    "Example:\n",
    "\n",
    "Data Set = 2, 5, 9, 3, 5, 4, 7\n",
    "\n",
    "Reordered = 2, 3, 4, 5, 5, 7, 9\n",
    "\n",
    "Range = ( 9 - 2 ) = 7"
   ]
  },
  {
   "cell_type": "markdown",
   "metadata": {},
   "source": [
    "### Variance :\n",
    "\n",
    "Variance measures how spread out the data is.\n",
    "\n",
    "Standard deviation is the root of variance\n",
    "\n",
    "Example:\n",
    "\n",
    "<img src=\"standard_deviation.png\" width=\"500\" height=\"500\">"
   ]
  },
  {
   "cell_type": "markdown",
   "metadata": {},
   "source": [
    "## What does variance (or standard deviation) mean? \n",
    "\n",
    "- We measured number of rainy days at fall in three different cities in last 5 years:"
   ]
  },
  {
   "cell_type": "code",
   "execution_count": 15,
   "metadata": {
    "scrolled": true
   },
   "outputs": [
    {
     "ename": "ModuleNotFoundError",
     "evalue": "No module named 'seaborn'",
     "output_type": "error",
     "traceback": [
      "\u001b[0;31m---------------------------------------------------------------------------\u001b[0m",
      "\u001b[0;31mModuleNotFoundError\u001b[0m                       Traceback (most recent call last)",
      "\u001b[0;32m<ipython-input-15-de09249e3ec8>\u001b[0m in \u001b[0;36m<module>\u001b[0;34m\u001b[0m\n\u001b[1;32m      1\u001b[0m \u001b[0;32mimport\u001b[0m \u001b[0mpandas\u001b[0m \u001b[0;32mas\u001b[0m \u001b[0mpd\u001b[0m\u001b[0;34m\u001b[0m\u001b[0m\n\u001b[0;32m----> 2\u001b[0;31m \u001b[0;32mimport\u001b[0m \u001b[0mseaborn\u001b[0m \u001b[0;32mas\u001b[0m \u001b[0msns\u001b[0m\u001b[0;34m\u001b[0m\u001b[0m\n\u001b[0m\u001b[1;32m      3\u001b[0m \u001b[0;32mimport\u001b[0m \u001b[0mmatplotlib\u001b[0m\u001b[0;34m.\u001b[0m\u001b[0mpyplot\u001b[0m \u001b[0;32mas\u001b[0m \u001b[0mplt\u001b[0m\u001b[0;34m\u001b[0m\u001b[0m\n\u001b[1;32m      4\u001b[0m \u001b[0;34m\u001b[0m\u001b[0m\n\u001b[1;32m      5\u001b[0m \u001b[0mdf\u001b[0m \u001b[0;34m=\u001b[0m \u001b[0mpd\u001b[0m\u001b[0;34m.\u001b[0m\u001b[0mDataFrame\u001b[0m\u001b[0;34m(\u001b[0m\u001b[0;34m{\u001b[0m\u001b[0;34m'Rainy'\u001b[0m\u001b[0;34m:\u001b[0m\u001b[0;34m[\u001b[0m\u001b[0;36m29\u001b[0m\u001b[0;34m,\u001b[0m\u001b[0;36m28\u001b[0m\u001b[0;34m,\u001b[0m\u001b[0;36m32\u001b[0m\u001b[0;34m,\u001b[0m\u001b[0;36m35\u001b[0m\u001b[0;34m,\u001b[0m\u001b[0;36m36\u001b[0m\u001b[0;34m,\u001b[0m\u001b[0;36m12\u001b[0m\u001b[0;34m,\u001b[0m\u001b[0;36m18\u001b[0m\u001b[0;34m,\u001b[0m\u001b[0;36m30\u001b[0m\u001b[0;34m,\u001b[0m\u001b[0;36m45\u001b[0m\u001b[0;34m,\u001b[0m\u001b[0;36m55\u001b[0m\u001b[0;34m,\u001b[0m \u001b[0;36m32\u001b[0m\u001b[0;34m,\u001b[0m\u001b[0;36m32\u001b[0m\u001b[0;34m,\u001b[0m\u001b[0;36m32\u001b[0m\u001b[0;34m,\u001b[0m\u001b[0;36m32\u001b[0m\u001b[0;34m,\u001b[0m\u001b[0;36m32\u001b[0m\u001b[0;34m]\u001b[0m\u001b[0;34m,\u001b[0m \u001b[0;34m'City'\u001b[0m\u001b[0;34m:\u001b[0m\u001b[0;34m[\u001b[0m\u001b[0;34m'City_A'\u001b[0m\u001b[0;34m]\u001b[0m\u001b[0;34m*\u001b[0m\u001b[0;36m5\u001b[0m \u001b[0;34m+\u001b[0m \u001b[0;34m[\u001b[0m\u001b[0;34m'City_B'\u001b[0m\u001b[0;34m]\u001b[0m\u001b[0;34m*\u001b[0m\u001b[0;36m5\u001b[0m \u001b[0;34m+\u001b[0m \u001b[0;34m[\u001b[0m\u001b[0;34m'City_C'\u001b[0m\u001b[0;34m]\u001b[0m\u001b[0;34m*\u001b[0m\u001b[0;36m5\u001b[0m\u001b[0;34m}\u001b[0m\u001b[0;34m)\u001b[0m\u001b[0;34m\u001b[0m\u001b[0m\n",
      "\u001b[0;31mModuleNotFoundError\u001b[0m: No module named 'seaborn'"
     ]
    }
   ],
   "source": [
    "import pandas as pd\n",
    "import seaborn as sns\n",
    "import matplotlib.pyplot as plt\n",
    "\n",
    "df = pd.DataFrame({'Rainy':[29,28,32,35,36,12,18,30,45,55, 32,32,32,32,32], 'City':['City_A']*5 + ['City_B']*5 + ['City_C']*5})\n",
    "df"
   ]
  },
  {
   "cell_type": "markdown",
   "metadata": {},
   "source": [
    "## Activity:  Obtain the variance of City_A, City_B and City_C"
   ]
  },
  {
   "cell_type": "code",
   "execution_count": 16,
   "metadata": {},
   "outputs": [],
   "source": [
    "City_A = [29,28,32,35,36]\n",
    "City_B = [12,18,30,45,55]\n",
    "City_C = [32,32,32,32,32]"
   ]
  },
  {
   "cell_type": "code",
   "execution_count": 17,
   "metadata": {},
   "outputs": [],
   "source": [
    "def std_dev(arr):\n",
    "    meanVal = mean(arr)\n",
    "    diff = []\n",
    "    for i in arr:\n",
    "        diff.append((i-meanVal)**2)\n",
    "    return np.sqrt(mean(diff))"
   ]
  },
  {
   "cell_type": "code",
   "execution_count": 18,
   "metadata": {},
   "outputs": [
    {
     "data": {
      "text/plain": [
       "3.1622776601683795"
      ]
     },
     "execution_count": 18,
     "metadata": {},
     "output_type": "execute_result"
    }
   ],
   "source": [
    "std_dev(City_A)"
   ]
  },
  {
   "cell_type": "code",
   "execution_count": 19,
   "metadata": {},
   "outputs": [
    {
     "data": {
      "text/plain": [
       "16.112107248898266"
      ]
     },
     "execution_count": 19,
     "metadata": {},
     "output_type": "execute_result"
    }
   ],
   "source": [
    "std_dev(City_B)"
   ]
  },
  {
   "cell_type": "code",
   "execution_count": 25,
   "metadata": {},
   "outputs": [
    {
     "data": {
      "text/plain": [
       "0.0"
      ]
     },
     "execution_count": 25,
     "metadata": {},
     "output_type": "execute_result"
    }
   ],
   "source": [
    "std_dev(City_C)"
   ]
  },
  {
   "cell_type": "code",
   "execution_count": 26,
   "metadata": {},
   "outputs": [],
   "source": [
    "def variance(data):\n",
    "    data = list(data)\n",
    "    meanVal = mean(data)\n",
    "    total = 0\n",
    "    for i in data:\n",
    "        total += (i - meanVal)**2\n",
    "    return total/(len(data)-1)"
   ]
  },
  {
   "cell_type": "code",
   "execution_count": 31,
   "metadata": {},
   "outputs": [],
   "source": [
    "def covariance(l1, l2):\n",
    "    v = 0\n",
    "    avg1 = mean(l1)\n",
    "    avg2 = mean(l2)\n",
    "    for i in range(len(l1)):\n",
    "        v += (l1[i] - avg1) * (l2[i] - avg2)\n",
    "    return v/len(l1)"
   ]
  },
  {
   "cell_type": "code",
   "execution_count": 32,
   "metadata": {},
   "outputs": [
    {
     "data": {
      "text/plain": [
       "0.875"
      ]
     },
     "execution_count": 32,
     "metadata": {},
     "output_type": "execute_result"
    }
   ],
   "source": [
    "covariance([1,2,3,4],[1,1,2,3])"
   ]
  },
  {
   "cell_type": "code",
   "execution_count": 29,
   "metadata": {},
   "outputs": [],
   "source": [
    "def covariance_matrix(lists):\n",
    "    matrix = [[] for i in range(len(lists))]\n",
    "    for i_1, l_1 in enumerate(lists):\n",
    "        for i_2, l_2 in enumerate(lists):\n",
    "            if(i_1 == i_2):\n",
    "                matrix[i_1].append(variance(l_1))\n",
    "            else:\n",
    "                matrix[i_1].append(covariance(l_1, l_2))\n",
    "    return matrix"
   ]
  },
  {
   "cell_type": "code",
   "execution_count": 30,
   "metadata": {},
   "outputs": [
    {
     "data": {
      "text/plain": [
       "[[0.0, 0.0, 0.0, 0.0],\n",
       " [0.0, 1.6666666666666667, 0.875, 2.0],\n",
       " [0.0, 0.875, 0.9166666666666666, 1.25],\n",
       " [0.0, 2.0, 1.25, 4.666666666666667]]"
      ]
     },
     "execution_count": 30,
     "metadata": {},
     "output_type": "execute_result"
    }
   ],
   "source": [
    "matrix = [[1,1,1,1],[1,2,3,4],[1,1,2,3], [2,5,6,7]]\n",
    "covariance_matrix(matrix)"
   ]
  },
  {
   "cell_type": "code",
   "execution_count": null,
   "metadata": {},
   "outputs": [],
   "source": []
  }
 ],
 "metadata": {
  "kernelspec": {
   "display_name": "Python 3",
   "language": "python",
   "name": "python3"
  },
  "language_info": {
   "codemirror_mode": {
    "name": "ipython",
    "version": 3
   },
   "file_extension": ".py",
   "mimetype": "text/x-python",
   "name": "python",
   "nbconvert_exporter": "python",
   "pygments_lexer": "ipython3",
   "version": "3.7.0"
  }
 },
 "nbformat": 4,
 "nbformat_minor": 2
}
